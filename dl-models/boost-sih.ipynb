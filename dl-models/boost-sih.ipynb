{
 "cells": [
  {
   "cell_type": "code",
   "execution_count": 1,
   "metadata": {
    "_cell_guid": "b1076dfc-b9ad-4769-8c92-a6c4dae69d19",
    "_uuid": "8f2839f25d086af736a60e9eeb907d3b93b6e0e5"
   },
   "outputs": [],
   "source": [
    "import pandas as pd\n",
    "import numpy as np\n",
    "import random as rd\n",
    "from collections import Counter\n"
   ]
  },
  {
   "cell_type": "code",
   "execution_count": 2,
   "metadata": {},
   "outputs": [],
   "source": [
    "def pick(prob):\n",
    "    train_size=int(0.7*len(prob))\n",
    "    indices=list(range(0,len(prob)))\n",
    "    l=[]\n",
    "    for i in range(train_size):\n",
    "        temp=rd.choices(indices,prob)\n",
    "        l.append(temp)\n",
    "    dic=dict(Counter(l))\n",
    "    train=[]\n",
    "    for i in range(len(prob)):\n",
    "        try:\n",
    "            count=dic[i]\n",
    "            for j in range(count):\n",
    "                 train.append(i)\n",
    "        except:\n",
    "            pass\n",
    "    return train\n",
    "        \n",
    "        "
   ]
  },
  {
   "cell_type": "code",
   "execution_count": 3,
   "metadata": {},
   "outputs": [],
   "source": [
    "def update_prob(predicted,prob):\n",
    "    for i in range(len(predicted)):\n",
    "        if(predicted[i]==0):\n",
    "            prob[i]=prob[i]*0.1\n",
    "    prob=prob/sum(prob)\n",
    "    return prob\n",
    "        "
   ]
  },
  {
   "cell_type": "code",
   "execution_count": null,
   "metadata": {},
   "outputs": [],
   "source": []
  },
  {
   "cell_type": "code",
   "execution_count": 4,
   "metadata": {},
   "outputs": [],
   "source": [
    "def predict(model,train,label):\n",
    "    return []"
   ]
  },
  {
   "cell_type": "code",
   "execution_count": 5,
   "metadata": {},
   "outputs": [],
   "source": [
    "def train(model,train,label):\n",
    "    return []\n",
    "    "
   ]
  },
  {
   "cell_type": "code",
   "execution_count": 6,
   "metadata": {},
   "outputs": [],
   "source": [
    "def ret_model(model,test):\n",
    "    #Test the model and please return the results whether they are same or not\n",
    "    #i.e if they are same return 1 else 0\n",
    "    return []"
   ]
  },
  {
   "cell_type": "code",
   "execution_count": 7,
   "metadata": {},
   "outputs": [],
   "source": [
    "def boost(model,train,label,test):\n",
    "    #please feed the models as a list of objects\n",
    "    #train is expected as a list of images\n",
    "    #labels for train\n",
    "    '''\n",
    "    always ensure the most unstable model comes\n",
    "    in the end since that is what \n",
    "    we are going to use to predict\n",
    "    '''\n",
    "    \n",
    "    prob=[1/len(train)]*len(train)\n",
    "    #probability array stored for chosing train instances\n",
    "    \n",
    "    results=[]\n",
    "    \n",
    "    for i in range(len(model)):\n",
    "        #pick is a fn used for selecting indices with the given probability distribution\n",
    "        indices=pick(prob)\n",
    "        \n",
    "        to_train=np.array([train[i] for i in indices])\n",
    "        train_label=np.array([train[i] for i in indices])\n",
    "        \n",
    "        model[i]=train_model(model[i],to_train,train_label)\n",
    "        #model object is expected after training\n",
    "        #please use corresponding label and if label not present modify accordingly\n",
    "        \n",
    "        predicted=predict(model[i],train,label)\n",
    "        #prediction of each element is expected as a boolean\n",
    "        #i.e [0,1,1,1,...] whether the element is correctly predicted or not\n",
    "        #NOTE: change the train and test according to your wish\n",
    "        \n",
    "        prob=update_prob(predicted,prob)\n",
    "        \n",
    "        results.append(ret_result(model[i],test))\n",
    "    \n",
    "    ans=[]\n",
    "    \n",
    "    for i in range(len(results)):\n",
    "        count=0;\n",
    "        for j in range(len(model)):\n",
    "            if results[j][i]==1:\n",
    "                count+=1\n",
    "            else:\n",
    "                count-=1\n",
    "        if count>0:\n",
    "            ans.append(1)\n",
    "        else:\n",
    "            ans.append(0)\n",
    "                \n",
    "    return ans"
   ]
  },
  {
   "cell_type": "code",
   "execution_count": null,
   "metadata": {},
   "outputs": [],
   "source": []
  }
 ],
 "metadata": {
  "kernelspec": {
   "display_name": "Python 3",
   "language": "python",
   "name": "python3"
  },
  "language_info": {
   "codemirror_mode": {
    "name": "ipython",
    "version": 3
   },
   "file_extension": ".py",
   "mimetype": "text/x-python",
   "name": "python",
   "nbconvert_exporter": "python",
   "pygments_lexer": "ipython3",
   "version": "3.7.6"
  }
 },
 "nbformat": 4,
 "nbformat_minor": 4
}
