{
 "cells": [
  {
   "cell_type": "code",
   "execution_count": 1,
   "metadata": {
    "_cell_guid": "b1076dfc-b9ad-4769-8c92-a6c4dae69d19",
    "_kg_hide-output": true,
    "_uuid": "8f2839f25d086af736a60e9eeb907d3b93b6e0e5"
   },
   "outputs": [
    {
     "name": "stderr",
     "output_type": "stream",
     "text": [
      "Using TensorFlow backend.\n",
      "/opt/conda/lib/python3.6/site-packages/tensorflow/python/framework/dtypes.py:516: FutureWarning: Passing (type, 1) or '1type' as a synonym of type is deprecated; in a future version of numpy, it will be understood as (type, (1,)) / '(1,)type'.\n",
      "  _np_qint8 = np.dtype([(\"qint8\", np.int8, 1)])\n",
      "/opt/conda/lib/python3.6/site-packages/tensorflow/python/framework/dtypes.py:517: FutureWarning: Passing (type, 1) or '1type' as a synonym of type is deprecated; in a future version of numpy, it will be understood as (type, (1,)) / '(1,)type'.\n",
      "  _np_quint8 = np.dtype([(\"quint8\", np.uint8, 1)])\n",
      "/opt/conda/lib/python3.6/site-packages/tensorflow/python/framework/dtypes.py:518: FutureWarning: Passing (type, 1) or '1type' as a synonym of type is deprecated; in a future version of numpy, it will be understood as (type, (1,)) / '(1,)type'.\n",
      "  _np_qint16 = np.dtype([(\"qint16\", np.int16, 1)])\n",
      "/opt/conda/lib/python3.6/site-packages/tensorflow/python/framework/dtypes.py:519: FutureWarning: Passing (type, 1) or '1type' as a synonym of type is deprecated; in a future version of numpy, it will be understood as (type, (1,)) / '(1,)type'.\n",
      "  _np_quint16 = np.dtype([(\"quint16\", np.uint16, 1)])\n",
      "/opt/conda/lib/python3.6/site-packages/tensorflow/python/framework/dtypes.py:520: FutureWarning: Passing (type, 1) or '1type' as a synonym of type is deprecated; in a future version of numpy, it will be understood as (type, (1,)) / '(1,)type'.\n",
      "  _np_qint32 = np.dtype([(\"qint32\", np.int32, 1)])\n",
      "/opt/conda/lib/python3.6/site-packages/tensorflow/python/framework/dtypes.py:525: FutureWarning: Passing (type, 1) or '1type' as a synonym of type is deprecated; in a future version of numpy, it will be understood as (type, (1,)) / '(1,)type'.\n",
      "  np_resource = np.dtype([(\"resource\", np.ubyte, 1)])\n",
      "/opt/conda/lib/python3.6/site-packages/tensorboard/compat/tensorflow_stub/dtypes.py:541: FutureWarning: Passing (type, 1) or '1type' as a synonym of type is deprecated; in a future version of numpy, it will be understood as (type, (1,)) / '(1,)type'.\n",
      "  _np_qint8 = np.dtype([(\"qint8\", np.int8, 1)])\n",
      "/opt/conda/lib/python3.6/site-packages/tensorboard/compat/tensorflow_stub/dtypes.py:542: FutureWarning: Passing (type, 1) or '1type' as a synonym of type is deprecated; in a future version of numpy, it will be understood as (type, (1,)) / '(1,)type'.\n",
      "  _np_quint8 = np.dtype([(\"quint8\", np.uint8, 1)])\n",
      "/opt/conda/lib/python3.6/site-packages/tensorboard/compat/tensorflow_stub/dtypes.py:543: FutureWarning: Passing (type, 1) or '1type' as a synonym of type is deprecated; in a future version of numpy, it will be understood as (type, (1,)) / '(1,)type'.\n",
      "  _np_qint16 = np.dtype([(\"qint16\", np.int16, 1)])\n",
      "/opt/conda/lib/python3.6/site-packages/tensorboard/compat/tensorflow_stub/dtypes.py:544: FutureWarning: Passing (type, 1) or '1type' as a synonym of type is deprecated; in a future version of numpy, it will be understood as (type, (1,)) / '(1,)type'.\n",
      "  _np_quint16 = np.dtype([(\"quint16\", np.uint16, 1)])\n",
      "/opt/conda/lib/python3.6/site-packages/tensorboard/compat/tensorflow_stub/dtypes.py:545: FutureWarning: Passing (type, 1) or '1type' as a synonym of type is deprecated; in a future version of numpy, it will be understood as (type, (1,)) / '(1,)type'.\n",
      "  _np_qint32 = np.dtype([(\"qint32\", np.int32, 1)])\n",
      "/opt/conda/lib/python3.6/site-packages/tensorboard/compat/tensorflow_stub/dtypes.py:550: FutureWarning: Passing (type, 1) or '1type' as a synonym of type is deprecated; in a future version of numpy, it will be understood as (type, (1,)) / '(1,)type'.\n",
      "  np_resource = np.dtype([(\"resource\", np.ubyte, 1)])\n"
     ]
    }
   ],
   "source": [
    "import numpy as np\n",
    "import random\n",
    "import pandas as pd\n",
    "import matplotlib.pyplot as plt\n",
    "from keras.layers import Activation,Dropout,Dense,Conv2D,AveragePooling2D,Flatten,ZeroPadding2D,MaxPooling2D,Convolution2D,MaxPooling2D\n",
    "from keras import optimizers\n",
    "from sklearn.model_selection import train_test_split\n",
    "from keras.models import Sequential\n",
    "import seaborn as sns\n",
    "from sklearn.metrics import accuracy_score\n",
    "from keras.utils.np_utils import to_categorical\n",
    "from keras.preprocessing.image import img_to_array\n",
    "from keras.preprocessing.image import load_img\n",
    "import math\n",
    "import cv2\n",
    "import imageio\n",
    "from os import listdir\n",
    "import warnings\n",
    "import filecmp\n",
    "from PIL import Image\n",
    "import numpy as np\n",
    "import pandas as pd\n",
    "import os\n",
    "import cv2\n",
    "import PIL\n",
    "import gc\n",
    "import psutil\n",
    "import matplotlib.pyplot as plt\n",
    "from sklearn.model_selection import train_test_split\n",
    "from tensorflow import set_random_seed\n",
    "from tqdm import tqdm\n",
    "from math import ceil\n",
    "import math\n",
    "import sys\n",
    "import gc\n",
    "\n",
    "import keras\n",
    "from keras.preprocessing.image import ImageDataGenerator, load_img, array_to_img, img_to_array\n",
    "from keras.models import Sequential, Model\n",
    "from keras.applications.resnet50 import ResNet50, preprocess_input\n",
    "from keras.layers import Conv2D, MaxPooling2D, GlobalAveragePooling2D, Input\n",
    "from keras.layers import Dropout, Flatten, Dense\n",
    "from keras.callbacks import ModelCheckpoint, EarlyStopping, ReduceLROnPlateau\n",
    "from keras.activations import softmax, relu, elu\n",
    "from keras.optimizers import Adam, rmsprop, RMSprop   ,SGD\n",
    "from keras.layers import BatchNormalization, LeakyReLU\n",
    "from tqdm import tqdm"
   ]
  },
  {
   "cell_type": "code",
   "execution_count": 2,
   "metadata": {
    "_cell_guid": "79c7e3d0-c299-4dcb-8224-4455121ee9b0",
    "_uuid": "d629ff2d2480ee46fbb7e2d37f6b5fab8052498a"
   },
   "outputs": [],
   "source": [
    "listdir('../input/ucla-protest-dataset/test/test/')\n",
    "basepath1='../input/ucla-protest-dataset/train1/train1/'\n",
    "basepath2='../input/ucla-protest-dataset/train2/train2/'\n",
    "basepath3='../input/ucla-protest-dataset/train3/train3/'\n",
    "testbase='../input/ucla-protest-dataset/test/test/'\n",
    "annot_train=pd.read_csv('../input/ucla-protest-dataset/annot_train - annot_train.csv')\n",
    "annot_test=pd.read_csv('../input/ucla-protest-dataset/test csv.csv')"
   ]
  },
  {
   "cell_type": "code",
   "execution_count": 3,
   "metadata": {},
   "outputs": [],
   "source": [
    "annot_train=annot_train.replace(\"-\",0)\n",
    "annot_test=annot_test.replace(\"-\",0)"
   ]
  },
  {
   "cell_type": "code",
   "execution_count": 4,
   "metadata": {},
   "outputs": [],
   "source": [
    "annot_train['violence']=[float(i) for i in annot_train['violence']]\n",
    "annot_test['violence']=[float(i) for i in annot_test['violence']]"
   ]
  },
  {
   "cell_type": "code",
   "execution_count": 5,
   "metadata": {},
   "outputs": [],
   "source": [
    "def rotate(image, angle):\n",
    "  image_center = tuple(np.array(image.shape[1::-1]) / 2)\n",
    "  rot_mat = cv2.getRotationMatrix2D(image_center, angle, 1.0)\n",
    "  result = cv2.warpAffine(image, rot_mat, image.shape[1::-1], flags=cv2.INTER_LINEAR)\n",
    "  return result"
   ]
  },
  {
   "cell_type": "code",
   "execution_count": 6,
   "metadata": {},
   "outputs": [
    {
     "name": "stdout",
     "output_type": "stream",
     "text": [
      "Thu Sep  5 15:52:35 2019\n",
      "Thu Sep  5 15:54:12 2019\n",
      "Thu Sep  5 15:55:47 2019\n",
      "Thu Sep  5 15:57:47 2019\n",
      "Thu Sep  5 15:58:24 2019\n"
     ]
    }
   ],
   "source": [
    "from time import ctime\n",
    "print(ctime())\n",
    "train=[]\n",
    "test=[]\n",
    "label=[]\n",
    "label1=[]\n",
    "i=0\n",
    "for file in listdir(basepath1):\n",
    "    filepath=basepath1+file\n",
    "    if(file.endswith('.jpg') or file.endswith('.png') or file.endswith('.jpeg') ):\n",
    "        if(annot_train[annot_train.fname==file]['protest'].sum()==1 and annot_train[annot_train.fname==file]['protest'].sum()>0.5):\n",
    "            image = imageio.imread(filepath)\n",
    "            image=cv2.resize(image,(50,50))\n",
    "            image=image/255\n",
    "            rotated75 =rotate(image,random.randint(20,360))\n",
    "            rotated120=rotate(image,random.randint(20,360))\n",
    "            train.append(image)\n",
    "            train.append(rotated75)\n",
    "            train.append(rotated120)\n",
    "            label.append(annot_train[annot_train.fname==file]['violence'].sum())\n",
    "            label.append(annot_train[annot_train.fname==file]['violence'].sum())\n",
    "            label.append(annot_train[annot_train.fname==file]['violence'].sum())\n",
    "        elif(annot_train[annot_train.fname==file]['protest'].sum()==1 and i<6000):\n",
    "            image = imageio.imread(filepath)\n",
    "            image=cv2.resize(image,(50,50))\n",
    "            image=image/255\n",
    "            train.append(image)\n",
    "            label.append(annot_train[annot_train.fname==file]['violence'].sum())\n",
    "            i+=1\n",
    "            \n",
    "        \n",
    "        \n",
    "print(ctime())\n",
    "for file in listdir(basepath2):\n",
    "    filepath=basepath2+file\n",
    "    if(file.endswith('.jpg') or file.endswith('.png') or file.endswith('.jpeg') ):\n",
    "        if(annot_train[annot_train.fname==file]['protest'].sum()==1 and annot_train[annot_train.fname==file]['protest'].sum()>0.5):\n",
    "            image = imageio.imread(filepath)\n",
    "            image=cv2.resize(image,(50,50))\n",
    "            image=image/255\n",
    "            rotated75 =rotate(image,random.randint(20,360))\n",
    "            rotated120=rotate(image,random.randint(20,360))\n",
    "            train.append(image)\n",
    "            train.append(rotated75)\n",
    "            train.append(rotated120)\n",
    "            label.append(annot_train[annot_train.fname==file]['violence'].sum())\n",
    "            label.append(annot_train[annot_train.fname==file]['violence'].sum())\n",
    "            label.append(annot_train[annot_train.fname==file]['violence'].sum())\n",
    "        elif(annot_train[annot_train.fname==file]['protest'].sum()==1 and i<6000):\n",
    "            image = imageio.imread(filepath)\n",
    "            image=cv2.resize(image,(50,50))\n",
    "            image=image/255\n",
    "            train.append(image)\n",
    "            label.append(annot_train[annot_train.fname==file]['violence'].sum())\n",
    "            i+=1\n",
    "print(ctime())\n",
    "\n",
    "for file in listdir(basepath3):\n",
    "    filepath=basepath3+file\n",
    "    if(file.endswith('.jpg') or file.endswith('.png') or file.endswith('.jpeg') ):\n",
    "        if(annot_train[annot_train.fname==file]['protest'].sum()==1 and annot_train[annot_train.fname==file]['protest'].sum()>0.5):\n",
    "            image = imageio.imread(filepath)\n",
    "            image=cv2.resize(image,(50,50))\n",
    "            image=image/255\n",
    "            rotated75 =rotate(image,random.randint(20,360))\n",
    "            rotated120=rotate(image,random.randint(20,360))\n",
    "            train.append(image)\n",
    "            train.append(rotated75)\n",
    "            train.append(rotated120)\n",
    "            label.append(annot_train[annot_train.fname==file]['violence'].sum())\n",
    "            label.append(annot_train[annot_train.fname==file]['violence'].sum())\n",
    "            label.append(annot_train[annot_train.fname==file]['violence'].sum())\n",
    "        elif(annot_train[annot_train.fname==file]['protest'].sum()==1 and i<6000):\n",
    "            image = imageio.imread(filepath)\n",
    "            image=cv2.resize(image,(50,50))\n",
    "            image=image/255\n",
    "            train.append(image)\n",
    "            label.append(annot_train[annot_train.fname==file]['violence'].sum())\n",
    "            i+=1\n",
    "print(ctime())\n",
    "i=0\n",
    "for file in listdir(testbase):\n",
    "    filepath=testbase+file\n",
    "    if(file.endswith('.jpg') or file.endswith('.png') or file.endswith('.jpeg') ):\n",
    "        if(annot_test[annot_test.fname==file]['protest'].sum()==1):\n",
    "            image = imageio.imread(filepath)\n",
    "            image=cv2.resize(image,(50,50))\n",
    "            image=image/255\n",
    "            test.append(image)\n",
    "            label1.append(annot_test[annot_test.fname==file]['violence'].sum())\n",
    "        i+=1\n",
    "print(ctime())\n",
    "\n",
    "\n",
    "\n",
    "        \n",
    "\n",
    "\n",
    "    "
   ]
  },
  {
   "cell_type": "code",
   "execution_count": 7,
   "metadata": {},
   "outputs": [],
   "source": [
    "train=np.array(train)"
   ]
  },
  {
   "cell_type": "code",
   "execution_count": 8,
   "metadata": {},
   "outputs": [],
   "source": [
    "model=keras.models.load_model('../input/violence-estimation/best_model.h5')"
   ]
  },
  {
   "cell_type": "code",
   "execution_count": 9,
   "metadata": {},
   "outputs": [
    {
     "name": "stderr",
     "output_type": "stream",
     "text": [
      "/opt/conda/lib/python3.6/site-packages/keras/callbacks.py:511: RuntimeWarning: EarlyStopping mode <built-in function min> is unknown, fallback to auto mode.\n",
      "  RuntimeWarning)\n",
      "/opt/conda/lib/python3.6/site-packages/keras/callbacks.py:407: RuntimeWarning: ModelCheckpoint mode <built-in function min> is unknown, fallback to auto mode.\n",
      "  RuntimeWarning)\n"
     ]
    }
   ],
   "source": [
    "es=EarlyStopping(monitor='val_loss',mode=min,verbose=1,patience=3)\n",
    "mc=ModelCheckpoint('best_model.h5',monitor='val_loss',mode=min,verbose=1,save_best_only=True)"
   ]
  },
  {
   "cell_type": "code",
   "execution_count": 10,
   "metadata": {},
   "outputs": [
    {
     "data": {
      "text/plain": [
       "4"
      ]
     },
     "execution_count": 10,
     "metadata": {},
     "output_type": "execute_result"
    }
   ],
   "source": [
    "lr = 1e-3\n",
    "optimizer = SGD(lr=lr, decay=1e-5, momentum=0.9, nesterov=True) # Adam(lr=lr, decay=0.01) \n",
    "model.compile(optimizer=optimizer, loss='mean_squared_error')\n",
    "# model.summary()\n",
    "gc.collect()"
   ]
  },
  {
   "cell_type": "code",
   "execution_count": 11,
   "metadata": {},
   "outputs": [
    {
     "name": "stdout",
     "output_type": "stream",
     "text": [
      "Train on 19563 samples, validate on 8385 samples\n",
      "Epoch 1/10\n",
      "19563/19563 [==============================] - 146s 7ms/step - loss: 0.0384 - val_loss: 0.0207\n",
      "\n",
      "Epoch 00001: val_loss improved from inf to 0.02070, saving model to best_model.h5\n",
      "Epoch 2/10\n",
      "19563/19563 [==============================] - 132s 7ms/step - loss: 0.0373 - val_loss: 0.0259\n",
      "\n",
      "Epoch 00002: val_loss did not improve from 0.02070\n",
      "Epoch 3/10\n",
      "19563/19563 [==============================] - 132s 7ms/step - loss: 0.0352 - val_loss: 0.0196\n",
      "\n",
      "Epoch 00003: val_loss improved from 0.02070 to 0.01962, saving model to best_model.h5\n",
      "Epoch 4/10\n",
      "  680/19563 [>.............................] - ETA: 1:55 - loss: 0.0313"
     ]
    }
   ],
   "source": [
    "history=model.fit(train,label,epochs=10,batch_size=10,verbose=1,validation_split=0.3,callbacks=[es,mc])"
   ]
  },
  {
   "cell_type": "code",
   "execution_count": 12,
   "metadata": {},
   "outputs": [
    {
     "data": {
      "image/png": "[encoded data removed]",
      "text/plain": [
       "<Figure size 576x576 with 1 Axes>"
      ]
     },
     "metadata": {
      "needs_background": "light"
     },
     "output_type": "display_data"
    }
   ],
   "source": [
    "plt.figure(figsize=(8, 8))\n",
    "plt.title(\"Learning curve\")\n",
    "plt.plot(history.history[\"loss\"], label=\"loss\")\n",
    "plt.plot(history.history[\"val_loss\"], label=\"val_loss\")\n",
    "plt.plot(np.argmin(history.history[\"val_loss\"]), np.min(history.history[\"val_loss\"]), marker=\"x\", color=\"r\",\n",
    "         label=\"best model\")\n",
    "plt.xlabel(\"Epochs\")\n",
    "plt.ylabel(\"log_loss\")\n",
    "plt.legend();"
   ]
  },
  {
   "cell_type": "code",
   "execution_count": 13,
   "metadata": {},
   "outputs": [
    {
     "name": "stdout",
     "output_type": "stream",
     "text": [
      "0.16944917663191555\n"
     ]
    }
   ],
   "source": [
    "test=np.array(test)\n",
    "label1=np.array(label1)\n",
    "predict=model.predict(test)\n",
    "from sklearn.metrics import mean_squared_error\n",
    "sc=mean_squared_error(predict,label1)\n",
    "sc=math.sqrt(sc)\n",
    "print(sc)"
   ]
  },
  {
   "cell_type": "code",
   "execution_count": 14,
   "metadata": {},
   "outputs": [
    {
     "data": {
      "image/png": "[encoded data removed]",
      "text/plain": [
       "<Figure size 432x288 with 1 Axes>"
      ]
     },
     "metadata": {
      "needs_background": "light"
     },
     "output_type": "display_data"
    }
   ],
   "source": [
    "plt.plot(predict)\n",
    "plt.show()"
   ]
  },
  {
   "cell_type": "code",
   "execution_count": 15,
   "metadata": {},
   "outputs": [
    {
     "data": {
      "image/png": "[encoded data removed]",
      "text/plain": [
       "<Figure size 432x288 with 1 Axes>"
      ]
     },
     "metadata": {
      "needs_background": "light"
     },
     "output_type": "display_data"
    }
   ],
   "source": [
    "plt.plot(label1)\n",
    "plt.show()"
   ]
  },
  {
   "cell_type": "code",
   "execution_count": 16,
   "metadata": {},
   "outputs": [
    {
     "data": {
      "text/plain": [
       "<matplotlib.axes._subplots.AxesSubplot at 0x7f5fb6252a58>"
      ]
     },
     "execution_count": 16,
     "metadata": {},
     "output_type": "execute_result"
    },
    {
     "data": {
      "image/png": "[encoded data removed]",
      "text/plain": [
       "<Figure size 432x288 with 1 Axes>"
      ]
     },
     "metadata": {
      "needs_background": "light"
     },
     "output_type": "display_data"
    }
   ],
   "source": [
    "annot_test['violence'].plot.box(grid=True)"
   ]
  },
  {
   "cell_type": "code",
   "execution_count": 17,
   "metadata": {},
   "outputs": [],
   "source": [
    "model.save('my_model.h5')"
   ]
  }
 ],
 "metadata": {
  "kernelspec": {
   "display_name": "Python 3",
   "language": "python",
   "name": "python3"
  },
  "language_info": {
   "codemirror_mode": {
    "name": "ipython",
    "version": 3
   },
   "file_extension": ".py",
   "mimetype": "text/x-python",
   "name": "python",
   "nbconvert_exporter": "python",
   "pygments_lexer": "ipython3",
   "version": "3.6.6"
  }
 },
 "nbformat": 4,
 "nbformat_minor": 1
}
