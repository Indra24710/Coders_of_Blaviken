{
 "cells": [
  {
   "cell_type": "code",
   "execution_count": 1,
   "metadata": {
    "_cell_guid": "b1076dfc-b9ad-4769-8c92-a6c4dae69d19",
    "_uuid": "8f2839f25d086af736a60e9eeb907d3b93b6e0e5"
   },
   "outputs": [],
   "source": [
    "from os import listdir\n",
    "from PIL import Image\n",
    "from numpy import asarray\n",
    "import matplotlib.pyplot as plt\n",
    "import numpy as np \n",
    "import pandas as pd\n",
    "import cv2"
   ]
  },
  {
   "cell_type": "code",
   "execution_count": 2,
   "metadata": {
    "_cell_guid": "79c7e3d0-c299-4dcb-8224-4455121ee9b0",
    "_uuid": "d629ff2d2480ee46fbb7e2d37f6b5fab8052498a"
   },
   "outputs": [
    {
     "name": "stdout",
     "output_type": "stream",
     "text": [
      "['__notebook__.ipynb']\n"
     ]
    }
   ],
   "source": [
    "import os\n",
    "print(os.listdir('../working/'))"
   ]
  },
  {
   "cell_type": "code",
   "execution_count": 3,
   "metadata": {},
   "outputs": [
    {
     "name": "stdout",
     "output_type": "stream",
     "text": [
      "Collecting face_recognition\r\n",
      "  Downloading https://files.pythonhosted.org/packages/1e/95/f6c9330f54ab07bfa032bf3715c12455a381083125d8880c43cbe76bb3d0/face_recognition-1.3.0-py2.py3-none-any.whl\r\n",
      "Requirement already satisfied: Pillow in /opt/conda/lib/python3.6/site-packages (from face_recognition) (5.4.1)\r\n",
      "Collecting face-recognition-models>=0.3.0\r\n",
      "\u001b[?25l  Downloading https://files.pythonhosted.org/packages/cf/3b/4fd8c534f6c0d1b80ce0973d01331525538045084c73c153ee6df20224cf/face_recognition_models-0.3.0.tar.gz (100.1MB)\r\n",
      "\u001b[K     |████████████████████████████████| 100.2MB 144kB/s \r\n",
      "\u001b[?25hRequirement already satisfied: Click>=6.0 in /opt/conda/lib/python3.6/site-packages (from face_recognition) (7.0)\r\n",
      "Requirement already satisfied: numpy in /opt/conda/lib/python3.6/site-packages (from face_recognition) (1.18.1)\r\n",
      "Collecting dlib>=19.7\r\n",
      "\u001b[?25l  Downloading https://files.pythonhosted.org/packages/63/92/05c3b98636661cb80d190a5a777dd94effcc14c0f6893222e5ca81e74fbc/dlib-19.19.0.tar.gz (3.2MB)\r\n",
      "\u001b[K     |████████████████████████████████| 3.2MB 34.8MB/s \r\n",
      "\u001b[?25hBuilding wheels for collected packages: face-recognition-models, dlib\r\n",
      "  Building wheel for face-recognition-models (setup.py) ... \u001b[?25l-\b \b\\\b \b|\b \b/\b \b-\b \b\\\b \b|\b \b/\b \bdone\r\n",
      "\u001b[?25h  Created wheel for face-recognition-models: filename=face_recognition_models-0.3.0-py2.py3-none-any.whl size=100566176 sha256=7212734fbdd38ea2679c9719b044676b92e8999bdfed0f778475140d416ee046\r\n",
      "  Stored in directory: /root/.cache/pip/wheels/d2/99/18/59c6c8f01e39810415c0e63f5bede7d83dfb0ffc039865465f\r\n",
      "  Building wheel for dlib (setup.py) ... \u001b[?25l-\b \b\\\b \b|\b \b/\b \b-\b \b\\\b \b|\b \b/\b \b-\b \b\\\b \b|\b \b/\b \b-\b \b\\\b \b|\b \b/\b \b-\b \b\\\b \b|\b \b/\b \b-\b \b\\\b \b|\b \b/\b \b-\b \b\\\b \b|\b \b/\b \b-\b \b\\\b \b|\b \b/\b \b-\b \b\\\b \b|\b \b/\b \b-\b \b\\\b \b|\b \b/\b \b-\b \b\\\b \b|\b \b/\b \b-\b \b\\\b \b|\b \b/\b \b-\b \b\\\b \b|\b \b/\b \b-\b \b\\\b \b|\b \b/\b \b-\b \b\\\b \b|\b \b/\b \b-\b \b\\\b \b|\b \b/\b \b-\b \b\\\b \b|\b \b/\b \b-\b \b\\\b \b|\b \b/\b \b-\b \b\\\b \b|\b \b/\b \b-\b \b\\\b \b|\b \b/\b \b-\b \b\\\b \b|\b \b/\b \b-\b \b\\\b \b|\b \b/\b \b-\b \b\\\b \b|\b \b/\b \b-\b \b\\\b \b|\b \b/\b \b-\b \b\\\b \b|\b \b/\b \b-\b \b\\\b \b|\b \b/\b \b-\b \b\\\b \b|\b \b/\b \b-\b \b\\\b \b|\b \b/\b \b-\b \b\\\b \b|\b \b/\b \b-\b \b\\\b \b|\b \b/\b \b-\b \b\\\b \b|\b \b/\b \b-\b \b\\\b \b|\b \b/\b \b-\b \b\\\b \b|\b \b/\b \b-\b \b\\\b \b|\b \b/\b \b-\b \b\\\b \bdone\r\n",
      "\u001b[?25h  Created wheel for dlib: filename=dlib-19.19.0-cp36-cp36m-linux_x86_64.whl size=4086281 sha256=f10b4de08b35fef7f919188685873abde1974a2be0ed67bc5437e4b156c6e5f6\r\n",
      "  Stored in directory: /root/.cache/pip/wheels/96/ac/11/8aadec62cb4fb5b264a9b1b042caf415de9a75f5e165d79a51\r\n",
      "Successfully built face-recognition-models dlib\r\n",
      "Installing collected packages: face-recognition-models, dlib, face-recognition\r\n",
      "Successfully installed dlib-19.19.0 face-recognition-1.3.0 face-recognition-models-0.3.0\r\n"
     ]
    }
   ],
   "source": [
    "!pip install face_recognition\n",
    "import face_recognition"
   ]
  },
  {
   "cell_type": "code",
   "execution_count": 4,
   "metadata": {},
   "outputs": [],
   "source": [
    "criminal_faces=[]\n",
    "face_encodings=[]\n",
    "crim_file=[]\n",
    "im_train=[]\n",
    "im_test=[]\n",
    "def criminal_img(filename,folder,required_size=(160,160)):\n",
    "    image = face_recognition.load_image_file(filename)\n",
    "    #criminal_faces.append(image)\n",
    "    temp=face_recognition.face_encodings(image)\n",
    "    if(temp!=[]):\n",
    "        face_encodings.append(temp[0])\n",
    "    else:\n",
    "        q=np.array([0,image.shape[0],image.shape[1],0])\n",
    "        temp=face_recognition.face_encodings(image,known_face_locations=[q])\n",
    "        face_encodings.append(temp[0])\n",
    "    crim_file.append(folder)"
   ]
  },
  {
   "cell_type": "code",
   "execution_count": 5,
   "metadata": {},
   "outputs": [],
   "source": [
    "folder = '../input/photos/'\n",
    "for filename in listdir(folder):\n",
    "    if(filename=='IMG_20171209_120300.jpg'):\n",
    "        path = folder + filename\n",
    "        criminal_img(path,filename)\n",
    "        im_train.append(path)"
   ]
  },
  {
   "cell_type": "code",
   "execution_count": 6,
   "metadata": {},
   "outputs": [],
   "source": [
    "test_faces=[]\n",
    "test_files=[]\n",
    "def test_img(filename,folder,required_size=(160,160)):\n",
    "    image = face_recognition.load_image_file(filename)\n",
    "    temp=face_recognition.face_encodings(image)\n",
    "    if(temp!=[]):\n",
    "        test_faces.append(temp[0])\n",
    "    else:\n",
    "        q=np.array([0,image.shape[0],image.shape[1],0])\n",
    "        temp=face_recognition.face_encodings(image,known_face_locations=[q])\n",
    "        test_faces.append(temp[0])\n",
    "    test_files.append(filename)"
   ]
  },
  {
   "cell_type": "code",
   "execution_count": 7,
   "metadata": {},
   "outputs": [
    {
     "name": "stdout",
     "output_type": "stream",
     "text": [
      "0 Sun Mar  8 11:10:36 2020\n",
      "1 Sun Mar  8 11:10:46 2020\n",
      "2 Sun Mar  8 11:10:55 2020\n",
      "3 Sun Mar  8 11:10:59 2020\n",
      "4 Sun Mar  8 11:11:07 2020\n",
      "5 Sun Mar  8 11:11:10 2020\n",
      "6 Sun Mar  8 11:11:19 2020\n",
      "7 Sun Mar  8 11:11:23 2020\n",
      "8 Sun Mar  8 11:11:26 2020\n",
      "9 Sun Mar  8 11:11:34 2020\n",
      "10 Sun Mar  8 11:11:44 2020\n",
      "11 Sun Mar  8 11:11:53 2020\n",
      "12 Sun Mar  8 11:11:56 2020\n",
      "13 Sun Mar  8 11:11:59 2020\n",
      "14 Sun Mar  8 11:12:07 2020\n",
      "15 Sun Mar  8 11:12:16 2020\n",
      "16 Sun Mar  8 11:12:24 2020\n",
      "17 Sun Mar  8 11:12:27 2020\n",
      "18 Sun Mar  8 11:12:36 2020\n",
      "19 Sun Mar  8 11:12:39 2020\n"
     ]
    }
   ],
   "source": [
    "folder='../input/photos/keshav photos/keshav photos/'\n",
    "i=0\n",
    "from time import ctime\n",
    "for filename in listdir(folder):\n",
    "    if(i<20):\n",
    "        path = folder + filename\n",
    "        test_img(path,filename)\n",
    "        im_test.append(path)\n",
    "        print(i,ctime())\n",
    "        i+=1"
   ]
  },
  {
   "cell_type": "code",
   "execution_count": 8,
   "metadata": {},
   "outputs": [],
   "source": [
    "path='../working/'\n",
    "if not os.path.exists(path+'positive/'):\n",
    "    os.mkdir(path+'positive/')\n",
    "if not os.path.exists(path+'negative/'):\n",
    "    os.mkdir(path+'negative/')\n",
    "path1='../working/positive/'\n",
    "path2='../working/negative/'\n",
    "for i in range(len(test_faces)):\n",
    "    for j in range(len(face_encodings)):\n",
    "        result=face_recognition.compare_faces([face_encodings[j]],test_faces[i])\n",
    "        if(result[0]==1):\n",
    "            img2=cv2.imread(im_test[i])\n",
    "            cv2.imwrite(os.path.join(path1,str(i)+'.jpg'),img2)\n",
    "            break\n",
    "    else:\n",
    "        img2=cv2.imread(im_test[i])\n",
    "        cv2.imwrite(os.path.join(path2,str(i)+'.jpg'),img2)"
   ]
  }
 ],
 "metadata": {
  "kernelspec": {
   "display_name": "Python 3",
   "language": "python",
   "name": "python3"
  },
  "language_info": {
   "codemirror_mode": {
    "name": "ipython",
    "version": 3
   },
   "file_extension": ".py",
   "mimetype": "text/x-python",
   "name": "python",
   "nbconvert_exporter": "python",
   "pygments_lexer": "ipython3",
   "version": "3.6.6"
  }
 },
 "nbformat": 4,
 "nbformat_minor": 4
}
