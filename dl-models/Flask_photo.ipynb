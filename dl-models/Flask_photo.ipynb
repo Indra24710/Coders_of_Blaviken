{
  "nbformat": 4,
  "nbformat_minor": 0,
  "metadata": {
    "colab": {
      "name": "Flask-photo.ipynb",
      "provenance": [],
      "collapsed_sections": []
    },
    "kernelspec": {
      "name": "python3",
      "display_name": "Python 3"
    },
    "accelerator": "GPU"
  },
  "cells": [
    {
      "cell_type": "code",
      "metadata": {
        "id": "am99yixm10BD",
        "colab_type": "code",
        "colab": {
          "base_uri": "https://localhost:8080/",
          "height": 51
        },
        "outputId": "991501df-0b8c-4e09-fda9-5dc0917eda91"
      },
      "source": [
        "from google.colab import drive\n",
        "drive.mount('/content/drive')\n",
        "%cd drive/My\\ Drive"
      ],
      "execution_count": 1,
      "outputs": [
        {
          "output_type": "stream",
          "text": [
            "Drive already mounted at /content/drive; to attempt to forcibly remount, call drive.mount(\"/content/drive\", force_remount=True).\n",
            "/content/drive/My Drive\n"
          ],
          "name": "stdout"
        }
      ]
    },
    {
      "cell_type": "code",
      "metadata": {
        "id": "8ZS2jKcLwTSy",
        "colab_type": "code",
        "colab": {}
      },
      "source": [
        "!pip install flask\n",
        "!pip install flask-ngrok\n",
        "!pip install Flask-Cors\n",
        "!pip install -r requirements.txt\n"
      ],
      "execution_count": null,
      "outputs": []
    },
    {
      "cell_type": "code",
      "metadata": {
        "id": "-77m7ZLuwcgF",
        "colab_type": "code",
        "colab": {}
      },
      "source": [
        "from flask_ngrok import run_with_ngrok\n",
        "from flask import Flask,request\n",
        "from subprocess import Popen, PIPE\n",
        "from flask_cors import CORS\n",
        "import time\n",
        "import re\n",
        "import shutil\n",
        "import os\n",
        "\n",
        "def flask_api():\n",
        "  app = Flask(__name__)\n",
        "  run_with_ngrok(app)\n",
        "  CORS(app)\n",
        "  #starts ngrok when the app is run\n",
        "  import json\n",
        "\n",
        "  def facenet(url):\n",
        "    !wget $url\n",
        "    image_name=url.split('tobedetected/')[1]\n",
        "    shutil.move(image_name,'fask_api/'+image_name)\n",
        "    pipe = Popen(\"python -m inference.classifier --image-path 'fask_api'\", shell=True, stdout=PIPE).stdout\n",
        "    output = pipe.read()\n",
        "    os.remove('fask_api/'+image_name)\n",
        "    output=str(output, 'utf-8')\n",
        "    \n",
        "\n",
        "    return output\n",
        "\n",
        "\n",
        "  @app.route(\"/\")\n",
        "  def home():\n",
        "      return \"<h1>Running Flask on Google Colab!</h1>\"\n",
        "\n",
        "\n",
        "  @app.route(\"/image\",methods=['GET','POST'])\n",
        "  def get_image_results():\n",
        "\n",
        "    \n",
        "    if request.method=='GET':\n",
        "      url=request.args.get('url')\n",
        "      output=facenet(url)\n",
        "      output=output.split('\\n')\n",
        "      final=[]\n",
        "      temp=''\n",
        "      for j in output:\n",
        "        for i in j:\n",
        "          if 'label' in i:\n",
        "            if i.isalpha()==0:\n",
        "              temp+=i\n",
        "            elif temp!='':\n",
        "              final.append(temp)\n",
        "              temp=''\n",
        "\n",
        "      response_dict={}\n",
        "      if len(final)>0:\n",
        "        response_dict['cid']=5\n",
        "      else:\n",
        "        response_dict['cid']='Not in database'\n",
        "      response = app.response_class(response=json.dumps(response_dict),status=200,mimetype='application/json')\n",
        "    return response\n",
        "\n",
        "    \n",
        "  app.run()"
      ],
      "execution_count": 2,
      "outputs": []
    },
    {
      "cell_type": "code",
      "metadata": {
        "id": "MrHEklEpUoND",
        "colab_type": "code",
        "colab": {
          "base_uri": "https://localhost:8080/",
          "height": 1000
        },
        "outputId": "6fe96886-17be-4a2a-a897-dc784d266208"
      },
      "source": [
        "flask_api()"
      ],
      "execution_count": null,
      "outputs": [
        {
          "output_type": "stream",
          "text": [
            " * Serving Flask app \"__main__\" (lazy loading)\n",
            " * Environment: production\n",
            "\u001b[31m   WARNING: This is a development server. Do not use it in a production deployment.\u001b[0m\n",
            "\u001b[2m   Use a production WSGI server instead.\u001b[0m\n",
            " * Debug mode: off\n"
          ],
          "name": "stdout"
        },
        {
          "output_type": "stream",
          "text": [
            " * Running on http://127.0.0.1:5000/ (Press CTRL+C to quit)\n"
          ],
          "name": "stderr"
        },
        {
          "output_type": "stream",
          "text": [
            " * Running on http://12cfb885d38c.ngrok.io\n",
            " * Traffic stats available on http://127.0.0.1:4040\n",
            "--2020-08-01 07:54:03--  https://codersofblaviken.blob.core.windows.net/detection/images/Tomboi.jpeg\n",
            "Resolving codersofblaviken.blob.core.windows.net (codersofblaviken.blob.core.windows.net)... 52.239.216.36\n",
            "Connecting to codersofblaviken.blob.core.windows.net (codersofblaviken.blob.core.windows.net)|52.239.216.36|:443... connected.\n",
            "HTTP request sent, awaiting response... 200 OK\n",
            "Length: 2932 (2.9K) [application/octet-stream]\n",
            "Saving to: ‘Tomboi.jpeg’\n",
            "\n",
            "Tomboi.jpeg         100%[===================>]   2.86K  --.-KB/s    in 0s      \n",
            "\n",
            "2020-08-01 07:54:04 (376 MB/s) - ‘Tomboi.jpeg’ saved [2932/2932]\n",
            "\n"
          ],
          "name": "stdout"
        },
        {
          "output_type": "stream",
          "text": [
            "[2020-08-01 07:54:07,823] ERROR in app: Exception on /image [GET]\n",
            "Traceback (most recent call last):\n",
            "  File \"/usr/local/lib/python3.6/dist-packages/flask/app.py\", line 2446, in wsgi_app\n",
            "    response = self.full_dispatch_request()\n",
            "  File \"/usr/local/lib/python3.6/dist-packages/flask/app.py\", line 1951, in full_dispatch_request\n",
            "    rv = self.handle_user_exception(e)\n",
            "  File \"/usr/local/lib/python3.6/dist-packages/flask_cors/extension.py\", line 161, in wrapped_function\n",
            "    return cors_after_request(app.make_response(f(*args, **kwargs)))\n",
            "  File \"/usr/local/lib/python3.6/dist-packages/flask/app.py\", line 1820, in handle_user_exception\n",
            "    reraise(exc_type, exc_value, tb)\n",
            "  File \"/usr/local/lib/python3.6/dist-packages/flask/_compat.py\", line 39, in reraise\n",
            "    raise value\n",
            "  File \"/usr/local/lib/python3.6/dist-packages/flask/app.py\", line 1949, in full_dispatch_request\n",
            "    rv = self.dispatch_request()\n",
            "  File \"/usr/local/lib/python3.6/dist-packages/flask/app.py\", line 1935, in dispatch_request\n",
            "    return self.view_functions[rule.endpoint](**req.view_args)\n",
            "  File \"<ipython-input-2-128b73eefca9>\", line 41, in get_image_results\n",
            "    output=facenet(url)\n",
            "  File \"<ipython-input-2-128b73eefca9>\", line 19, in facenet\n",
            "    image_name=url.split('tobedetected/')[1]\n",
            "IndexError: list index out of range\n",
            "127.0.0.1 - - [01/Aug/2020 07:54:07] \"\u001b[1m\u001b[35mGET /image?url=https://codersofblaviken.blob.core.windows.net/detection/images/Tomboi.jpeg HTTP/1.1\u001b[0m\" 500 -\n"
          ],
          "name": "stderr"
        },
        {
          "output_type": "stream",
          "text": [
            "--2020-08-01 09:18:18--  https://codersofblaviken.blob.core.windows.net/detection/images/Tomboi.jpeg\n",
            "Resolving codersofblaviken.blob.core.windows.net (codersofblaviken.blob.core.windows.net)... 52.239.216.36\n",
            "Connecting to codersofblaviken.blob.core.windows.net (codersofblaviken.blob.core.windows.net)|52.239.216.36|:443... connected.\n",
            "HTTP request sent, awaiting response... 200 OK\n",
            "Length: 2932 (2.9K) [application/octet-stream]\n",
            "Saving to: ‘Tomboi.jpeg.1’\n",
            "\n",
            "\rTomboi.jpeg.1         0%[                    ]       0  --.-KB/s               \rTomboi.jpeg.1       100%[===================>]   2.86K  --.-KB/s    in 0s      \n",
            "\n",
            "2020-08-01 09:18:19 (405 MB/s) - ‘Tomboi.jpeg.1’ saved [2932/2932]\n",
            "\n"
          ],
          "name": "stdout"
        },
        {
          "output_type": "stream",
          "text": [
            "[2020-08-01 09:18:22,805] ERROR in app: Exception on /image [GET]\n",
            "Traceback (most recent call last):\n",
            "  File \"/usr/local/lib/python3.6/dist-packages/flask/app.py\", line 2446, in wsgi_app\n",
            "    response = self.full_dispatch_request()\n",
            "  File \"/usr/local/lib/python3.6/dist-packages/flask/app.py\", line 1951, in full_dispatch_request\n",
            "    rv = self.handle_user_exception(e)\n",
            "  File \"/usr/local/lib/python3.6/dist-packages/flask_cors/extension.py\", line 161, in wrapped_function\n",
            "    return cors_after_request(app.make_response(f(*args, **kwargs)))\n",
            "  File \"/usr/local/lib/python3.6/dist-packages/flask/app.py\", line 1820, in handle_user_exception\n",
            "    reraise(exc_type, exc_value, tb)\n",
            "  File \"/usr/local/lib/python3.6/dist-packages/flask/_compat.py\", line 39, in reraise\n",
            "    raise value\n",
            "  File \"/usr/local/lib/python3.6/dist-packages/flask/app.py\", line 1949, in full_dispatch_request\n",
            "    rv = self.dispatch_request()\n",
            "  File \"/usr/local/lib/python3.6/dist-packages/flask/app.py\", line 1935, in dispatch_request\n",
            "    return self.view_functions[rule.endpoint](**req.view_args)\n",
            "  File \"<ipython-input-2-128b73eefca9>\", line 41, in get_image_results\n",
            "    output=facenet(url)\n",
            "  File \"<ipython-input-2-128b73eefca9>\", line 19, in facenet\n",
            "    image_name=url.split('tobedetected/')[1]\n",
            "IndexError: list index out of range\n",
            "127.0.0.1 - - [01/Aug/2020 09:18:22] \"\u001b[1m\u001b[35mGET /image?url=https://codersofblaviken.blob.core.windows.net/detection/images/Tomboi.jpeg HTTP/1.1\u001b[0m\" 500 -\n"
          ],
          "name": "stderr"
        },
        {
          "output_type": "stream",
          "text": [
            "--2020-08-01 09:18:39--  https://codersofblaviken.blob.core.windows.net/detection/tobedetected/harsha.JPG\n",
            "Resolving codersofblaviken.blob.core.windows.net (codersofblaviken.blob.core.windows.net)... 52.239.216.36\n",
            "Connecting to codersofblaviken.blob.core.windows.net (codersofblaviken.blob.core.windows.net)|52.239.216.36|:443... connected.\n",
            "HTTP request sent, awaiting response... 200 OK\n",
            "Length: 67938 (66K) [application/octet-stream]\n",
            "Saving to: ‘harsha.JPG’\n",
            "\n",
            "\rharsha.JPG            0%[                    ]       0  --.-KB/s               \rharsha.JPG           59%[==========>         ]  39.56K   143KB/s               \rharsha.JPG          100%[===================>]  66.35K   239KB/s    in 0.3s    \n",
            "\n",
            "2020-08-01 09:18:40 (239 KB/s) - ‘harsha.JPG’ saved [67938/67938]\n",
            "\n"
          ],
          "name": "stdout"
        },
        {
          "output_type": "stream",
          "text": [
            "127.0.0.1 - - [01/Aug/2020 09:19:03] \"\u001b[37mGET /image?url=https://codersofblaviken.blob.core.windows.net/detection/tobedetected/harsha.JPG HTTP/1.1\u001b[0m\" 200 -\n"
          ],
          "name": "stderr"
        }
      ]
    },
    {
      "cell_type": "code",
      "metadata": {
        "id": "MyCibBxgEMQJ",
        "colab_type": "code",
        "colab": {}
      },
      "source": [
        ""
      ],
      "execution_count": null,
      "outputs": []
    }
  ]
}